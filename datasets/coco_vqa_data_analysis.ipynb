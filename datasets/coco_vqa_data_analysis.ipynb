{
 "cells": [
  {
   "cell_type": "code",
   "execution_count": 1,
   "metadata": {},
   "outputs": [
    {
     "name": "stderr",
     "output_type": "stream",
     "text": [
      "/home/mihnea/anaconda3/envs/vqa/lib/python3.10/site-packages/tqdm/auto.py:21: TqdmWarning: IProgress not found. Please update jupyter and ipywidgets. See https://ipywidgets.readthedocs.io/en/stable/user_install.html\n",
      "  from .autonotebook import tqdm as notebook_tqdm\n"
     ]
    }
   ],
   "source": [
    "import torch \n",
    "import json\n",
    "import cv2\n",
    "import yaml\n",
    "import sys\n",
    "import re\n",
    "import csv\n",
    "import numpy as np\n",
    "import os\n",
    "\n",
    "sys.path.append('../Configs/')\n",
    "\n",
    "from configs import update_configs, get_configs"
   ]
  },
  {
   "cell_type": "code",
   "execution_count": 2,
   "metadata": {},
   "outputs": [],
   "source": [
    "dataset_cfg_file = \"../Configs/dataset.yaml\"\n",
    "model_cfg_file = \"../Configs/model.yaml\"\n",
    "train_cfg_file = \"../Configs/train.yaml\"\n",
    "labels_cfg_file = \"../Configs/labels.yaml\"\n"
   ]
  },
  {
   "cell_type": "code",
   "execution_count": 3,
   "metadata": {},
   "outputs": [],
   "source": [
    "cfg = get_configs()\n",
    "update_configs(cfg, model_cfg_file, dataset_cfg_file, train_cfg_file)"
   ]
  },
  {
   "cell_type": "code",
   "execution_count": 4,
   "metadata": {},
   "outputs": [],
   "source": [
    "with open(cfg.DATASET.TRAIN_FILE) as f:\n",
    "    d = json.load(f)\n",
    "\n",
    "# TODO some statistics about the data"
   ]
  },
  {
   "cell_type": "code",
   "execution_count": 5,
   "metadata": {},
   "outputs": [
    {
     "ename": "UnsupportedOperation",
     "evalue": "not writable",
     "output_type": "error",
     "traceback": [
      "\u001b[0;31m---------------------------------------------------------------------------\u001b[0m",
      "\u001b[0;31mUnsupportedOperation\u001b[0m                      Traceback (most recent call last)",
      "\u001b[1;32m/home/mihnea/vqa/Datasets/coco_vqa_data_analysis.ipynb Cell 5\u001b[0m line \u001b[0;36m9\n\u001b[1;32m      <a href='vscode-notebook-cell:/home/mihnea/vqa/Datasets/coco_vqa_data_analysis.ipynb#W4sZmlsZQ%3D%3D?line=5'>6</a>\u001b[0m labels \u001b[39m=\u001b[39m {index : answer \u001b[39mfor\u001b[39;00m index, answer \u001b[39min\u001b[39;00m \u001b[39menumerate\u001b[39m(answers)}\n\u001b[1;32m      <a href='vscode-notebook-cell:/home/mihnea/vqa/Datasets/coco_vqa_data_analysis.ipynb#W4sZmlsZQ%3D%3D?line=7'>8</a>\u001b[0m \u001b[39mwith\u001b[39;00m \u001b[39mopen\u001b[39m(labels_cfg_file) \u001b[39mas\u001b[39;00m yaml_file:\n\u001b[0;32m----> <a href='vscode-notebook-cell:/home/mihnea/vqa/Datasets/coco_vqa_data_analysis.ipynb#W4sZmlsZQ%3D%3D?line=8'>9</a>\u001b[0m     yaml\u001b[39m.\u001b[39;49mdump({\u001b[39m'\u001b[39;49m\u001b[39mANSWERS_LABELS\u001b[39;49m\u001b[39m'\u001b[39;49m: labels}, yaml_file, default_flow_style\u001b[39m=\u001b[39;49m\u001b[39mFalse\u001b[39;49;00m)\n",
      "File \u001b[0;32m~/anaconda3/envs/vqa/lib/python3.10/site-packages/yaml/__init__.py:253\u001b[0m, in \u001b[0;36mdump\u001b[0;34m(data, stream, Dumper, **kwds)\u001b[0m\n\u001b[1;32m    248\u001b[0m \u001b[39mdef\u001b[39;00m \u001b[39mdump\u001b[39m(data, stream\u001b[39m=\u001b[39m\u001b[39mNone\u001b[39;00m, Dumper\u001b[39m=\u001b[39mDumper, \u001b[39m*\u001b[39m\u001b[39m*\u001b[39mkwds):\n\u001b[1;32m    249\u001b[0m \u001b[39m    \u001b[39m\u001b[39m\"\"\"\u001b[39;00m\n\u001b[1;32m    250\u001b[0m \u001b[39m    Serialize a Python object into a YAML stream.\u001b[39;00m\n\u001b[1;32m    251\u001b[0m \u001b[39m    If stream is None, return the produced string instead.\u001b[39;00m\n\u001b[1;32m    252\u001b[0m \u001b[39m    \"\"\"\u001b[39;00m\n\u001b[0;32m--> 253\u001b[0m     \u001b[39mreturn\u001b[39;00m dump_all([data], stream, Dumper\u001b[39m=\u001b[39;49mDumper, \u001b[39m*\u001b[39;49m\u001b[39m*\u001b[39;49mkwds)\n",
      "File \u001b[0;32m~/anaconda3/envs/vqa/lib/python3.10/site-packages/yaml/__init__.py:241\u001b[0m, in \u001b[0;36mdump_all\u001b[0;34m(documents, stream, Dumper, default_style, default_flow_style, canonical, indent, width, allow_unicode, line_break, encoding, explicit_start, explicit_end, version, tags, sort_keys)\u001b[0m\n\u001b[1;32m    239\u001b[0m     dumper\u001b[39m.\u001b[39mopen()\n\u001b[1;32m    240\u001b[0m     \u001b[39mfor\u001b[39;00m data \u001b[39min\u001b[39;00m documents:\n\u001b[0;32m--> 241\u001b[0m         dumper\u001b[39m.\u001b[39;49mrepresent(data)\n\u001b[1;32m    242\u001b[0m     dumper\u001b[39m.\u001b[39mclose()\n\u001b[1;32m    243\u001b[0m \u001b[39mfinally\u001b[39;00m:\n",
      "File \u001b[0;32m~/anaconda3/envs/vqa/lib/python3.10/site-packages/yaml/representer.py:28\u001b[0m, in \u001b[0;36mBaseRepresenter.represent\u001b[0;34m(self, data)\u001b[0m\n\u001b[1;32m     26\u001b[0m \u001b[39mdef\u001b[39;00m \u001b[39mrepresent\u001b[39m(\u001b[39mself\u001b[39m, data):\n\u001b[1;32m     27\u001b[0m     node \u001b[39m=\u001b[39m \u001b[39mself\u001b[39m\u001b[39m.\u001b[39mrepresent_data(data)\n\u001b[0;32m---> 28\u001b[0m     \u001b[39mself\u001b[39;49m\u001b[39m.\u001b[39;49mserialize(node)\n\u001b[1;32m     29\u001b[0m     \u001b[39mself\u001b[39m\u001b[39m.\u001b[39mrepresented_objects \u001b[39m=\u001b[39m {}\n\u001b[1;32m     30\u001b[0m     \u001b[39mself\u001b[39m\u001b[39m.\u001b[39mobject_keeper \u001b[39m=\u001b[39m []\n",
      "File \u001b[0;32m~/anaconda3/envs/vqa/lib/python3.10/site-packages/yaml/serializer.py:54\u001b[0m, in \u001b[0;36mSerializer.serialize\u001b[0;34m(self, node)\u001b[0m\n\u001b[1;32m     51\u001b[0m \u001b[39mself\u001b[39m\u001b[39m.\u001b[39memit(DocumentStartEvent(explicit\u001b[39m=\u001b[39m\u001b[39mself\u001b[39m\u001b[39m.\u001b[39muse_explicit_start,\n\u001b[1;32m     52\u001b[0m     version\u001b[39m=\u001b[39m\u001b[39mself\u001b[39m\u001b[39m.\u001b[39muse_version, tags\u001b[39m=\u001b[39m\u001b[39mself\u001b[39m\u001b[39m.\u001b[39muse_tags))\n\u001b[1;32m     53\u001b[0m \u001b[39mself\u001b[39m\u001b[39m.\u001b[39manchor_node(node)\n\u001b[0;32m---> 54\u001b[0m \u001b[39mself\u001b[39;49m\u001b[39m.\u001b[39;49mserialize_node(node, \u001b[39mNone\u001b[39;49;00m, \u001b[39mNone\u001b[39;49;00m)\n\u001b[1;32m     55\u001b[0m \u001b[39mself\u001b[39m\u001b[39m.\u001b[39memit(DocumentEndEvent(explicit\u001b[39m=\u001b[39m\u001b[39mself\u001b[39m\u001b[39m.\u001b[39muse_explicit_end))\n\u001b[1;32m     56\u001b[0m \u001b[39mself\u001b[39m\u001b[39m.\u001b[39mserialized_nodes \u001b[39m=\u001b[39m {}\n",
      "File \u001b[0;32m~/anaconda3/envs/vqa/lib/python3.10/site-packages/yaml/serializer.py:108\u001b[0m, in \u001b[0;36mSerializer.serialize_node\u001b[0;34m(self, node, parent, index)\u001b[0m\n\u001b[1;32m    106\u001b[0m     \u001b[39mfor\u001b[39;00m key, value \u001b[39min\u001b[39;00m node\u001b[39m.\u001b[39mvalue:\n\u001b[1;32m    107\u001b[0m         \u001b[39mself\u001b[39m\u001b[39m.\u001b[39mserialize_node(key, node, \u001b[39mNone\u001b[39;00m)\n\u001b[0;32m--> 108\u001b[0m         \u001b[39mself\u001b[39;49m\u001b[39m.\u001b[39;49mserialize_node(value, node, key)\n\u001b[1;32m    109\u001b[0m     \u001b[39mself\u001b[39m\u001b[39m.\u001b[39memit(MappingEndEvent())\n\u001b[1;32m    110\u001b[0m \u001b[39mself\u001b[39m\u001b[39m.\u001b[39mascend_resolver()\n",
      "File \u001b[0;32m~/anaconda3/envs/vqa/lib/python3.10/site-packages/yaml/serializer.py:107\u001b[0m, in \u001b[0;36mSerializer.serialize_node\u001b[0;34m(self, node, parent, index)\u001b[0m\n\u001b[1;32m    104\u001b[0m \u001b[39mself\u001b[39m\u001b[39m.\u001b[39memit(MappingStartEvent(alias, node\u001b[39m.\u001b[39mtag, implicit,\n\u001b[1;32m    105\u001b[0m     flow_style\u001b[39m=\u001b[39mnode\u001b[39m.\u001b[39mflow_style))\n\u001b[1;32m    106\u001b[0m \u001b[39mfor\u001b[39;00m key, value \u001b[39min\u001b[39;00m node\u001b[39m.\u001b[39mvalue:\n\u001b[0;32m--> 107\u001b[0m     \u001b[39mself\u001b[39;49m\u001b[39m.\u001b[39;49mserialize_node(key, node, \u001b[39mNone\u001b[39;49;00m)\n\u001b[1;32m    108\u001b[0m     \u001b[39mself\u001b[39m\u001b[39m.\u001b[39mserialize_node(value, node, key)\n\u001b[1;32m    109\u001b[0m \u001b[39mself\u001b[39m\u001b[39m.\u001b[39memit(MappingEndEvent())\n",
      "File \u001b[0;32m~/anaconda3/envs/vqa/lib/python3.10/site-packages/yaml/serializer.py:89\u001b[0m, in \u001b[0;36mSerializer.serialize_node\u001b[0;34m(self, node, parent, index)\u001b[0m\n\u001b[1;32m     87\u001b[0m     default_tag \u001b[39m=\u001b[39m \u001b[39mself\u001b[39m\u001b[39m.\u001b[39mresolve(ScalarNode, node\u001b[39m.\u001b[39mvalue, (\u001b[39mFalse\u001b[39;00m, \u001b[39mTrue\u001b[39;00m))\n\u001b[1;32m     88\u001b[0m     implicit \u001b[39m=\u001b[39m (node\u001b[39m.\u001b[39mtag \u001b[39m==\u001b[39m detected_tag), (node\u001b[39m.\u001b[39mtag \u001b[39m==\u001b[39m default_tag)\n\u001b[0;32m---> 89\u001b[0m     \u001b[39mself\u001b[39;49m\u001b[39m.\u001b[39;49memit(ScalarEvent(alias, node\u001b[39m.\u001b[39;49mtag, implicit, node\u001b[39m.\u001b[39;49mvalue,\n\u001b[1;32m     90\u001b[0m         style\u001b[39m=\u001b[39;49mnode\u001b[39m.\u001b[39;49mstyle))\n\u001b[1;32m     91\u001b[0m \u001b[39melif\u001b[39;00m \u001b[39misinstance\u001b[39m(node, SequenceNode):\n\u001b[1;32m     92\u001b[0m     implicit \u001b[39m=\u001b[39m (node\u001b[39m.\u001b[39mtag\n\u001b[1;32m     93\u001b[0m                 \u001b[39m==\u001b[39m \u001b[39mself\u001b[39m\u001b[39m.\u001b[39mresolve(SequenceNode, node\u001b[39m.\u001b[39mvalue, \u001b[39mTrue\u001b[39;00m))\n",
      "File \u001b[0;32m~/anaconda3/envs/vqa/lib/python3.10/site-packages/yaml/emitter.py:115\u001b[0m, in \u001b[0;36mEmitter.emit\u001b[0;34m(self, event)\u001b[0m\n\u001b[1;32m    113\u001b[0m \u001b[39mwhile\u001b[39;00m \u001b[39mnot\u001b[39;00m \u001b[39mself\u001b[39m\u001b[39m.\u001b[39mneed_more_events():\n\u001b[1;32m    114\u001b[0m     \u001b[39mself\u001b[39m\u001b[39m.\u001b[39mevent \u001b[39m=\u001b[39m \u001b[39mself\u001b[39m\u001b[39m.\u001b[39mevents\u001b[39m.\u001b[39mpop(\u001b[39m0\u001b[39m)\n\u001b[0;32m--> 115\u001b[0m     \u001b[39mself\u001b[39;49m\u001b[39m.\u001b[39;49mstate()\n\u001b[1;32m    116\u001b[0m     \u001b[39mself\u001b[39m\u001b[39m.\u001b[39mevent \u001b[39m=\u001b[39m \u001b[39mNone\u001b[39;00m\n",
      "File \u001b[0;32m~/anaconda3/envs/vqa/lib/python3.10/site-packages/yaml/emitter.py:393\u001b[0m, in \u001b[0;36mEmitter.expect_first_block_mapping_key\u001b[0;34m(self)\u001b[0m\n\u001b[1;32m    392\u001b[0m \u001b[39mdef\u001b[39;00m \u001b[39mexpect_first_block_mapping_key\u001b[39m(\u001b[39mself\u001b[39m):\n\u001b[0;32m--> 393\u001b[0m     \u001b[39mreturn\u001b[39;00m \u001b[39mself\u001b[39;49m\u001b[39m.\u001b[39;49mexpect_block_mapping_key(first\u001b[39m=\u001b[39;49m\u001b[39mTrue\u001b[39;49;00m)\n",
      "File \u001b[0;32m~/anaconda3/envs/vqa/lib/python3.10/site-packages/yaml/emitter.py:403\u001b[0m, in \u001b[0;36mEmitter.expect_block_mapping_key\u001b[0;34m(self, first)\u001b[0m\n\u001b[1;32m    401\u001b[0m \u001b[39mif\u001b[39;00m \u001b[39mself\u001b[39m\u001b[39m.\u001b[39mcheck_simple_key():\n\u001b[1;32m    402\u001b[0m     \u001b[39mself\u001b[39m\u001b[39m.\u001b[39mstates\u001b[39m.\u001b[39mappend(\u001b[39mself\u001b[39m\u001b[39m.\u001b[39mexpect_block_mapping_simple_value)\n\u001b[0;32m--> 403\u001b[0m     \u001b[39mself\u001b[39;49m\u001b[39m.\u001b[39;49mexpect_node(mapping\u001b[39m=\u001b[39;49m\u001b[39mTrue\u001b[39;49;00m, simple_key\u001b[39m=\u001b[39;49m\u001b[39mTrue\u001b[39;49;00m)\n\u001b[1;32m    404\u001b[0m \u001b[39melse\u001b[39;00m:\n\u001b[1;32m    405\u001b[0m     \u001b[39mself\u001b[39m\u001b[39m.\u001b[39mwrite_indicator(\u001b[39m'\u001b[39m\u001b[39m?\u001b[39m\u001b[39m'\u001b[39m, \u001b[39mTrue\u001b[39;00m, indention\u001b[39m=\u001b[39m\u001b[39mTrue\u001b[39;00m)\n",
      "File \u001b[0;32m~/anaconda3/envs/vqa/lib/python3.10/site-packages/yaml/emitter.py:244\u001b[0m, in \u001b[0;36mEmitter.expect_node\u001b[0;34m(self, root, sequence, mapping, simple_key)\u001b[0m\n\u001b[1;32m    242\u001b[0m \u001b[39mself\u001b[39m\u001b[39m.\u001b[39mprocess_tag()\n\u001b[1;32m    243\u001b[0m \u001b[39mif\u001b[39;00m \u001b[39misinstance\u001b[39m(\u001b[39mself\u001b[39m\u001b[39m.\u001b[39mevent, ScalarEvent):\n\u001b[0;32m--> 244\u001b[0m     \u001b[39mself\u001b[39;49m\u001b[39m.\u001b[39;49mexpect_scalar()\n\u001b[1;32m    245\u001b[0m \u001b[39melif\u001b[39;00m \u001b[39misinstance\u001b[39m(\u001b[39mself\u001b[39m\u001b[39m.\u001b[39mevent, SequenceStartEvent):\n\u001b[1;32m    246\u001b[0m     \u001b[39mif\u001b[39;00m \u001b[39mself\u001b[39m\u001b[39m.\u001b[39mflow_level \u001b[39mor\u001b[39;00m \u001b[39mself\u001b[39m\u001b[39m.\u001b[39mcanonical \u001b[39mor\u001b[39;00m \u001b[39mself\u001b[39m\u001b[39m.\u001b[39mevent\u001b[39m.\u001b[39mflow_style   \\\n\u001b[1;32m    247\u001b[0m             \u001b[39mor\u001b[39;00m \u001b[39mself\u001b[39m\u001b[39m.\u001b[39mcheck_empty_sequence():\n",
      "File \u001b[0;32m~/anaconda3/envs/vqa/lib/python3.10/site-packages/yaml/emitter.py:268\u001b[0m, in \u001b[0;36mEmitter.expect_scalar\u001b[0;34m(self)\u001b[0m\n\u001b[1;32m    266\u001b[0m \u001b[39mdef\u001b[39;00m \u001b[39mexpect_scalar\u001b[39m(\u001b[39mself\u001b[39m):\n\u001b[1;32m    267\u001b[0m     \u001b[39mself\u001b[39m\u001b[39m.\u001b[39mincrease_indent(flow\u001b[39m=\u001b[39m\u001b[39mTrue\u001b[39;00m)\n\u001b[0;32m--> 268\u001b[0m     \u001b[39mself\u001b[39;49m\u001b[39m.\u001b[39;49mprocess_scalar()\n\u001b[1;32m    269\u001b[0m     \u001b[39mself\u001b[39m\u001b[39m.\u001b[39mindent \u001b[39m=\u001b[39m \u001b[39mself\u001b[39m\u001b[39m.\u001b[39mindents\u001b[39m.\u001b[39mpop()\n\u001b[1;32m    270\u001b[0m     \u001b[39mself\u001b[39m\u001b[39m.\u001b[39mstate \u001b[39m=\u001b[39m \u001b[39mself\u001b[39m\u001b[39m.\u001b[39mstates\u001b[39m.\u001b[39mpop()\n",
      "File \u001b[0;32m~/anaconda3/envs/vqa/lib/python3.10/site-packages/yaml/emitter.py:533\u001b[0m, in \u001b[0;36mEmitter.process_scalar\u001b[0;34m(self)\u001b[0m\n\u001b[1;32m    531\u001b[0m     \u001b[39mself\u001b[39m\u001b[39m.\u001b[39mwrite_literal(\u001b[39mself\u001b[39m\u001b[39m.\u001b[39manalysis\u001b[39m.\u001b[39mscalar)\n\u001b[1;32m    532\u001b[0m \u001b[39melse\u001b[39;00m:\n\u001b[0;32m--> 533\u001b[0m     \u001b[39mself\u001b[39;49m\u001b[39m.\u001b[39;49mwrite_plain(\u001b[39mself\u001b[39;49m\u001b[39m.\u001b[39;49manalysis\u001b[39m.\u001b[39;49mscalar, split)\n\u001b[1;32m    534\u001b[0m \u001b[39mself\u001b[39m\u001b[39m.\u001b[39manalysis \u001b[39m=\u001b[39m \u001b[39mNone\u001b[39;00m\n\u001b[1;32m    535\u001b[0m \u001b[39mself\u001b[39m\u001b[39m.\u001b[39mstyle \u001b[39m=\u001b[39m \u001b[39mNone\u001b[39;00m\n",
      "File \u001b[0;32m~/anaconda3/envs/vqa/lib/python3.10/site-packages/yaml/emitter.py:1132\u001b[0m, in \u001b[0;36mEmitter.write_plain\u001b[0;34m(self, text, split)\u001b[0m\n\u001b[1;32m   1130\u001b[0m         \u001b[39mif\u001b[39;00m \u001b[39mself\u001b[39m\u001b[39m.\u001b[39mencoding:\n\u001b[1;32m   1131\u001b[0m             data \u001b[39m=\u001b[39m data\u001b[39m.\u001b[39mencode(\u001b[39mself\u001b[39m\u001b[39m.\u001b[39mencoding)\n\u001b[0;32m-> 1132\u001b[0m         \u001b[39mself\u001b[39;49m\u001b[39m.\u001b[39;49mstream\u001b[39m.\u001b[39;49mwrite(data)\n\u001b[1;32m   1133\u001b[0m         start \u001b[39m=\u001b[39m end\n\u001b[1;32m   1134\u001b[0m \u001b[39mif\u001b[39;00m ch \u001b[39mis\u001b[39;00m \u001b[39mnot\u001b[39;00m \u001b[39mNone\u001b[39;00m:\n",
      "\u001b[0;31mUnsupportedOperation\u001b[0m: not writable"
     ]
    }
   ],
   "source": [
    "answers = []\n",
    "for keys, values in d.items():\n",
    "    answers.extend(values['answers'])\n",
    "\n",
    "answers = set(answers)\n",
    "labels = {index : answer for index, answer in enumerate(answers)}\n",
    "\n",
    "with open(labels_cfg_file) as yaml_file:\n",
    "    yaml.dump({'ANSWERS_LABELS': labels}, yaml_file, default_flow_style=False)"
   ]
  },
  {
   "cell_type": "code",
   "execution_count": 6,
   "metadata": {},
   "outputs": [
    {
     "name": "stdout",
     "output_type": "stream",
     "text": [
      "4475\n"
     ]
    }
   ],
   "source": [
    "words_list = []\n",
    "for keys, values in d.items():\n",
    "    question = values['question']\n",
    "    question = re.sub(r'[^\\w\\s]', '', question.lower())\n",
    "    words = question.split()\n",
    "    words_list.extend(words)\n",
    "\n",
    "print(len(set(words_list)))"
   ]
  },
  {
   "cell_type": "code",
   "execution_count": 8,
   "metadata": {},
   "outputs": [],
   "source": [
    "for keys, values in d.items():\n",
    "   # print(keys)\n",
    "   pass\n",
    "   "
   ]
  },
  {
   "cell_type": "code",
   "execution_count": 9,
   "metadata": {},
   "outputs": [
    {
     "ename": "FileNotFoundError",
     "evalue": "[Errno 2] No such file or directory: 'file.tsv'",
     "output_type": "error",
     "traceback": [
      "\u001b[0;31m---------------------------------------------------------------------------\u001b[0m",
      "\u001b[0;31mFileNotFoundError\u001b[0m                         Traceback (most recent call last)",
      "\u001b[1;32m/home/mihnea/vqa/Datasets/coco_vqa_data_analysis.ipynb Cell 8\u001b[0m line \u001b[0;36m1\n\u001b[0;32m----> <a href='vscode-notebook-cell:/home/mihnea/vqa/Datasets/coco_vqa_data_analysis.ipynb#X13sZmlsZQ%3D%3D?line=0'>1</a>\u001b[0m \u001b[39mwith\u001b[39;00m \u001b[39mopen\u001b[39;49m(\u001b[39m\"\u001b[39;49m\u001b[39mfile.tsv\u001b[39;49m\u001b[39m\"\u001b[39;49m) \u001b[39mas\u001b[39;00m fd:\n\u001b[1;32m      <a href='vscode-notebook-cell:/home/mihnea/vqa/Datasets/coco_vqa_data_analysis.ipynb#X13sZmlsZQ%3D%3D?line=1'>2</a>\u001b[0m     rd \u001b[39m=\u001b[39m csv\u001b[39m.\u001b[39mreader(fd, delimiter\u001b[39m=\u001b[39m\u001b[39m\"\u001b[39m\u001b[39m\\t\u001b[39;00m\u001b[39m\"\u001b[39m, quotechar\u001b[39m=\u001b[39m\u001b[39m'\u001b[39m\u001b[39m\"\u001b[39m\u001b[39m'\u001b[39m)\n\u001b[1;32m      <a href='vscode-notebook-cell:/home/mihnea/vqa/Datasets/coco_vqa_data_analysis.ipynb#X13sZmlsZQ%3D%3D?line=2'>3</a>\u001b[0m     \u001b[39mfor\u001b[39;00m row \u001b[39min\u001b[39;00m rd:\n",
      "File \u001b[0;32m~/anaconda3/envs/vqa/lib/python3.10/site-packages/IPython/core/interactiveshell.py:286\u001b[0m, in \u001b[0;36m_modified_open\u001b[0;34m(file, *args, **kwargs)\u001b[0m\n\u001b[1;32m    279\u001b[0m \u001b[39mif\u001b[39;00m file \u001b[39min\u001b[39;00m {\u001b[39m0\u001b[39m, \u001b[39m1\u001b[39m, \u001b[39m2\u001b[39m}:\n\u001b[1;32m    280\u001b[0m     \u001b[39mraise\u001b[39;00m \u001b[39mValueError\u001b[39;00m(\n\u001b[1;32m    281\u001b[0m         \u001b[39mf\u001b[39m\u001b[39m\"\u001b[39m\u001b[39mIPython won\u001b[39m\u001b[39m'\u001b[39m\u001b[39mt let you open fd=\u001b[39m\u001b[39m{\u001b[39;00mfile\u001b[39m}\u001b[39;00m\u001b[39m by default \u001b[39m\u001b[39m\"\u001b[39m\n\u001b[1;32m    282\u001b[0m         \u001b[39m\"\u001b[39m\u001b[39mas it is likely to crash IPython. If you know what you are doing, \u001b[39m\u001b[39m\"\u001b[39m\n\u001b[1;32m    283\u001b[0m         \u001b[39m\"\u001b[39m\u001b[39myou can use builtins\u001b[39m\u001b[39m'\u001b[39m\u001b[39m open.\u001b[39m\u001b[39m\"\u001b[39m\n\u001b[1;32m    284\u001b[0m     )\n\u001b[0;32m--> 286\u001b[0m \u001b[39mreturn\u001b[39;00m io_open(file, \u001b[39m*\u001b[39;49margs, \u001b[39m*\u001b[39;49m\u001b[39m*\u001b[39;49mkwargs)\n",
      "\u001b[0;31mFileNotFoundError\u001b[0m: [Errno 2] No such file or directory: 'file.tsv'"
     ]
    }
   ],
   "source": [
    "with open(\"file.tsv\") as fd:\n",
    "    rd = csv.reader(fd, delimiter=\"\\t\", quotechar='\"')\n",
    "    for row in rd:\n",
    "        print(row)"
   ]
  },
  {
   "cell_type": "code",
   "execution_count": 10,
   "metadata": {},
   "outputs": [
    {
     "name": "stdout",
     "output_type": "stream",
     "text": [
      "{'question': 'Does the horse look tired?', 'image_id': '464980', 'image_name': 'COCO_train2014_000000464980.jpg', 'answers': ['yes', 'yes', 'yes', 'yes', 'yes', 'yes', 'yes', 'yes', 'yes', 'yes']}\n"
     ]
    }
   ],
   "source": [
    "key = list(d)[4]\n",
    "values = d[key]\n",
    "\n",
    "print(values)"
   ]
  },
  {
   "cell_type": "code",
   "execution_count": 17,
   "metadata": {},
   "outputs": [
    {
     "name": "stdout",
     "output_type": "stream",
     "text": [
      "(36, 2048)\n"
     ]
    }
   ],
   "source": [
    "data = np.load(os.path.join(cfg.DATASET.TRAIN_VAL_IMG_EMBEDDINGS_FOLDER, '9.npz'))\n",
    "print(data['feat'].shape)"
   ]
  },
  {
   "cell_type": "code",
   "execution_count": null,
   "metadata": {},
   "outputs": [],
   "source": []
  },
  {
   "cell_type": "code",
   "execution_count": null,
   "metadata": {},
   "outputs": [],
   "source": []
  }
 ],
 "metadata": {
  "kernelspec": {
   "display_name": "vqa",
   "language": "python",
   "name": "python3"
  },
  "language_info": {
   "codemirror_mode": {
    "name": "ipython",
    "version": 3
   },
   "file_extension": ".py",
   "mimetype": "text/x-python",
   "name": "python",
   "nbconvert_exporter": "python",
   "pygments_lexer": "ipython3",
   "version": "3.10.13"
  }
 },
 "nbformat": 4,
 "nbformat_minor": 2
}
